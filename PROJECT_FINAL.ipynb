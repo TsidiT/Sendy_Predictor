{
  "cells": [
    {
      "cell_type": "code",
      "execution_count": 1,
      "metadata": {
        "id": "TKdtLVsgS4-1"
      },
      "outputs": [],
      "source": [
        "import pandas as pd\n",
        "import numpy as np\n",
        "import datetime as dt\n",
        "import matplotlib.pyplot as plt\n",
        "import seaborn as sns\n",
        "from scipy import stats\n",
        "import statsmodels.api as sm\n",
        "from scipy.stats import chi2_contingency\n",
        "from sklearn.feature_selection import f_classif\n",
        "from sklearn.model_selection import train_test_split, cross_val_score\n",
        "from sklearn.compose import ColumnTransformer\n",
        "from sklearn.pipeline import Pipeline\n",
        "from sklearn.preprocessing import StandardScaler, OneHotEncoder\n",
        "from sklearn.linear_model import LinearRegression\n",
        "from sklearn.metrics import mean_squared_error\n",
        "from sklearn.feature_selection import mutual_info_classif\n",
        "from mlxtend.feature_selection import ExhaustiveFeatureSelector\n",
        "from sklearn.ensemble import RandomForestClassifier\n",
        "from sklearn.preprocessing import KBinsDiscretizer\n",
        "from sklearn import preprocessing\n",
        "from sklearn.preprocessing import LabelEncoder\n",
        "from sklearn.ensemble import RandomForestRegressor\n",
        "from sklearn.cluster import KMeans\n",
        "from sklearn.metrics import r2_score\n",
        "import math\n",
        "pd.set_option('display.max_columns', None)"
      ]
    },
    {
      "cell_type": "code",
      "execution_count": 2,
      "metadata": {
        "id": "iWhCMuk7S5F3"
      },
      "outputs": [],
      "source": [
        "riders = pd.read_csv('Riders.csv')\n",
        "train_raw = pd.read_csv( 'Train.csv')"
      ]
    },
    {
      "cell_type": "code",
      "execution_count": 3,
      "metadata": {
        "colab": {
          "base_uri": "https://localhost:8080/"
        },
        "id": "bKJEpWxdTMaS",
        "outputId": "648805b9-d8df-47c3-a42f-08bb208e99d7"
      },
      "outputs": [
        {
          "name": "stdout",
          "output_type": "stream",
          "text": [
            "<class 'pandas.core.frame.DataFrame'>\n",
            "RangeIndex: 21201 entries, 0 to 21200\n",
            "Data columns (total 29 columns):\n",
            " #   Column                                     Non-Null Count  Dtype  \n",
            "---  ------                                     --------------  -----  \n",
            " 0   Order No                                   21201 non-null  object \n",
            " 1   User Id                                    21201 non-null  object \n",
            " 2   Vehicle Type                               21201 non-null  object \n",
            " 3   Platform Type                              21201 non-null  int64  \n",
            " 4   Personal or Business                       21201 non-null  object \n",
            " 5   Placement - Day of Month                   21201 non-null  int64  \n",
            " 6   Placement - Weekday (Mo = 1)               21201 non-null  int64  \n",
            " 7   Placement - Time                           21201 non-null  object \n",
            " 8   Confirmation - Day of Month                21201 non-null  int64  \n",
            " 9   Confirmation - Weekday (Mo = 1)            21201 non-null  int64  \n",
            " 10  Confirmation - Time                        21201 non-null  object \n",
            " 11  Arrival at Pickup - Day of Month           21201 non-null  int64  \n",
            " 12  Arrival at Pickup - Weekday (Mo = 1)       21201 non-null  int64  \n",
            " 13  Arrival at Pickup - Time                   21201 non-null  object \n",
            " 14  Pickup - Day of Month                      21201 non-null  int64  \n",
            " 15  Pickup - Weekday (Mo = 1)                  21201 non-null  int64  \n",
            " 16  Pickup - Time                              21201 non-null  object \n",
            " 17  Arrival at Destination - Day of Month      21201 non-null  int64  \n",
            " 18  Arrival at Destination - Weekday (Mo = 1)  21201 non-null  int64  \n",
            " 19  Arrival at Destination - Time              21201 non-null  object \n",
            " 20  Distance (KM)                              21201 non-null  int64  \n",
            " 21  Temperature                                16835 non-null  float64\n",
            " 22  Precipitation in millimeters               552 non-null    float64\n",
            " 23  Pickup Lat                                 21201 non-null  float64\n",
            " 24  Pickup Long                                21201 non-null  float64\n",
            " 25  Destination Lat                            21201 non-null  float64\n",
            " 26  Destination Long                           21201 non-null  float64\n",
            " 27  Rider Id                                   21201 non-null  object \n",
            " 28  Time from Pickup to Arrival                21201 non-null  int64  \n",
            "dtypes: float64(6), int64(13), object(10)\n",
            "memory usage: 4.7+ MB\n"
          ]
        }
      ],
      "source": [
        "train_raw.info()"
      ]
    },
    {
      "cell_type": "code",
      "execution_count": 4,
      "metadata": {},
      "outputs": [
        {
          "name": "stderr",
          "output_type": "stream",
          "text": [
            "/var/folders/yn/sw89357s6s96t5l9gxt28vvw0000gn/T/ipykernel_50778/985858238.py:22: UserWarning: Could not infer format, so each element will be parsed individually, falling back to `dateutil`. To ensure parsing is consistent and as-expected, please specify a format.\n",
            "  train_raw['Placement - Time'] = pd.to_datetime(train_raw['Placement - Time'])\n"
          ]
        }
      ],
      "source": [
        "# Convert time columns to datetime\n",
        "time_columns = [\n",
        "    \"Confirmation - Time\",\n",
        "    \"Arrival at Pickup - Time\",\n",
        "    \"Pickup - Time\",\n",
        "    \"Arrival at Destination - Time\"\n",
        "]\n",
        "\n",
        "for col in time_columns:\n",
        "    train_raw[col] = pd.to_datetime(train_raw[col], format='%I:%M:%S %p').dt.time\n",
        "\n",
        "# Function to convert time to seconds since midnight\n",
        "def time_to_seconds(t):\n",
        "    return t.hour * 3600 + t.minute * 60 + t.second\n",
        "\n",
        "# Apply conversion\n",
        "for col in time_columns:\n",
        "    train_raw[f\"{col}(Seconds since midnight)\"] = train_raw[col].apply(time_to_seconds)\n",
        "\n",
        "\n",
        "\n",
        "train_raw['Placement - Time'] = pd.to_datetime(train_raw['Placement - Time'])\n",
        "\n",
        "# Extract the hour from the 'Placement - Time'\n",
        "train_raw['Placement_Hour'] = train_raw['Placement - Time'].dt.hour\n",
        "\n",
        "\n",
        "train_raw[col] = pd.to_datetime(train_raw[col], format='%H:%M:%S').dt.time\n",
        "\n",
        "# Drop original time columns\n",
        "train_raw.drop(columns=time_columns, inplace=True)"
      ]
    },
    {
      "cell_type": "code",
      "execution_count": 5,
      "metadata": {
        "id": "j1nPUsUmTzqx"
      },
      "outputs": [],
      "source": [
        "# Calculate the average temperature for each hour\n",
        "hourly_avg_temp = train_raw.groupby('Placement_Hour')['Temperature'].mean()\n",
        "\n",
        "# Function to fill NaN values with the average temperature of the corresponding hour\n",
        "def fill_temperature(row):\n",
        "    if pd.isnull(row['Temperature']):\n",
        "        return hourly_avg_temp[row['Placement_Hour']]\n",
        "    return row['Temperature']\n",
        "\n",
        "# Apply the function to fill NaN values\n",
        "train_raw['Temperature'] = train_raw.apply(fill_temperature, axis=1)\n",
        "\n",
        "# Drop the auxiliary 'Hour' column\n",
        "train_raw.drop('Placement_Hour', axis=1, inplace=True)\n",
        "train_raw\n",
        "\n",
        "#Round it off to one decimal places\n",
        "train_raw['Temperature'] = train_raw['Temperature'].round(1)"
      ]
    },
    {
      "cell_type": "code",
      "execution_count": 6,
      "metadata": {
        "id": "zfNmt5rvT24w"
      },
      "outputs": [],
      "source": [
        "train_raw.drop('Precipitation in millimeters', axis=1, inplace=True)"
      ]
    },
    {
      "cell_type": "code",
      "execution_count": 7,
      "metadata": {
        "id": "QQNTaHAgTK7R"
      },
      "outputs": [],
      "source": [
        "# Define features and target\n",
        "X = train_raw.drop(columns=[\"Order No\", \"User Id\", \"Rider Id\", \"Arrival at Destination - Time(Seconds since midnight)\"])\n",
        "y = train_raw[\"Arrival at Destination - Time(Seconds since midnight)\"]\n",
        "\n",
        "# Split the data into training and testing sets\n",
        "X_train, X_test, y_train, y_test = train_test_split(X, y, test_size=0.2, random_state=42)\n"
      ]
    },
    {
      "cell_type": "code",
      "execution_count": 8,
      "metadata": {
        "colab": {
          "base_uri": "https://localhost:8080/"
        },
        "id": "_KpzyY3vV1hj",
        "outputId": "902d7392-e996-4137-861f-b5ed0eb88fa0"
      },
      "outputs": [
        {
          "data": {
            "text/plain": [
              "Index(['Order No', 'User Id', 'Vehicle Type', 'Platform Type',\n",
              "       'Personal or Business', 'Placement - Day of Month',\n",
              "       'Placement - Weekday (Mo = 1)', 'Placement - Time',\n",
              "       'Confirmation - Day of Month', 'Confirmation - Weekday (Mo = 1)',\n",
              "       'Arrival at Pickup - Day of Month',\n",
              "       'Arrival at Pickup - Weekday (Mo = 1)', 'Pickup - Day of Month',\n",
              "       'Pickup - Weekday (Mo = 1)', 'Arrival at Destination - Day of Month',\n",
              "       'Arrival at Destination - Weekday (Mo = 1)', 'Distance (KM)',\n",
              "       'Temperature', 'Pickup Lat', 'Pickup Long', 'Destination Lat',\n",
              "       'Destination Long', 'Rider Id', 'Time from Pickup to Arrival',\n",
              "       'Confirmation - Time(Seconds since midnight)',\n",
              "       'Arrival at Pickup - Time(Seconds since midnight)',\n",
              "       'Pickup - Time(Seconds since midnight)',\n",
              "       'Arrival at Destination - Time(Seconds since midnight)'],\n",
              "      dtype='object')"
            ]
          },
          "execution_count": 8,
          "metadata": {},
          "output_type": "execute_result"
        }
      ],
      "source": [
        "train_raw.columns"
      ]
    },
    {
      "cell_type": "code",
      "execution_count": 9,
      "metadata": {
        "colab": {
          "base_uri": "https://localhost:8080/",
          "height": 192
        },
        "id": "Rk1FxZBmTfiB",
        "outputId": "adf44659-0dcf-4312-e90c-6c8a94613c27"
      },
      "outputs": [
        {
          "data": {
            "text/html": [
              "<style>#sk-container-id-1 {color: black;background-color: white;}#sk-container-id-1 pre{padding: 0;}#sk-container-id-1 div.sk-toggleable {background-color: white;}#sk-container-id-1 label.sk-toggleable__label {cursor: pointer;display: block;width: 100%;margin-bottom: 0;padding: 0.3em;box-sizing: border-box;text-align: center;}#sk-container-id-1 label.sk-toggleable__label-arrow:before {content: \"▸\";float: left;margin-right: 0.25em;color: #696969;}#sk-container-id-1 label.sk-toggleable__label-arrow:hover:before {color: black;}#sk-container-id-1 div.sk-estimator:hover label.sk-toggleable__label-arrow:before {color: black;}#sk-container-id-1 div.sk-toggleable__content {max-height: 0;max-width: 0;overflow: hidden;text-align: left;background-color: #f0f8ff;}#sk-container-id-1 div.sk-toggleable__content pre {margin: 0.2em;color: black;border-radius: 0.25em;background-color: #f0f8ff;}#sk-container-id-1 input.sk-toggleable__control:checked~div.sk-toggleable__content {max-height: 200px;max-width: 100%;overflow: auto;}#sk-container-id-1 input.sk-toggleable__control:checked~label.sk-toggleable__label-arrow:before {content: \"▾\";}#sk-container-id-1 div.sk-estimator input.sk-toggleable__control:checked~label.sk-toggleable__label {background-color: #d4ebff;}#sk-container-id-1 div.sk-label input.sk-toggleable__control:checked~label.sk-toggleable__label {background-color: #d4ebff;}#sk-container-id-1 input.sk-hidden--visually {border: 0;clip: rect(1px 1px 1px 1px);clip: rect(1px, 1px, 1px, 1px);height: 1px;margin: -1px;overflow: hidden;padding: 0;position: absolute;width: 1px;}#sk-container-id-1 div.sk-estimator {font-family: monospace;background-color: #f0f8ff;border: 1px dotted black;border-radius: 0.25em;box-sizing: border-box;margin-bottom: 0.5em;}#sk-container-id-1 div.sk-estimator:hover {background-color: #d4ebff;}#sk-container-id-1 div.sk-parallel-item::after {content: \"\";width: 100%;border-bottom: 1px solid gray;flex-grow: 1;}#sk-container-id-1 div.sk-label:hover label.sk-toggleable__label {background-color: #d4ebff;}#sk-container-id-1 div.sk-serial::before {content: \"\";position: absolute;border-left: 1px solid gray;box-sizing: border-box;top: 0;bottom: 0;left: 50%;z-index: 0;}#sk-container-id-1 div.sk-serial {display: flex;flex-direction: column;align-items: center;background-color: white;padding-right: 0.2em;padding-left: 0.2em;position: relative;}#sk-container-id-1 div.sk-item {position: relative;z-index: 1;}#sk-container-id-1 div.sk-parallel {display: flex;align-items: stretch;justify-content: center;background-color: white;position: relative;}#sk-container-id-1 div.sk-item::before, #sk-container-id-1 div.sk-parallel-item::before {content: \"\";position: absolute;border-left: 1px solid gray;box-sizing: border-box;top: 0;bottom: 0;left: 50%;z-index: -1;}#sk-container-id-1 div.sk-parallel-item {display: flex;flex-direction: column;z-index: 1;position: relative;background-color: white;}#sk-container-id-1 div.sk-parallel-item:first-child::after {align-self: flex-end;width: 50%;}#sk-container-id-1 div.sk-parallel-item:last-child::after {align-self: flex-start;width: 50%;}#sk-container-id-1 div.sk-parallel-item:only-child::after {width: 0;}#sk-container-id-1 div.sk-dashed-wrapped {border: 1px dashed gray;margin: 0 0.4em 0.5em 0.4em;box-sizing: border-box;padding-bottom: 0.4em;background-color: white;}#sk-container-id-1 div.sk-label label {font-family: monospace;font-weight: bold;display: inline-block;line-height: 1.2em;}#sk-container-id-1 div.sk-label-container {text-align: center;}#sk-container-id-1 div.sk-container {/* jupyter's `normalize.less` sets `[hidden] { display: none; }` but bootstrap.min.css set `[hidden] { display: none !important; }` so we also need the `!important` here to be able to override the default hidden behavior on the sphinx rendered scikit-learn.org. See: https://github.com/scikit-learn/scikit-learn/issues/21755 */display: inline-block !important;position: relative;}#sk-container-id-1 div.sk-text-repr-fallback {display: none;}</style><div id=\"sk-container-id-1\" class=\"sk-top-container\"><div class=\"sk-text-repr-fallback\"><pre>Pipeline(steps=[(&#x27;preprocessor&#x27;,\n",
              "                 ColumnTransformer(transformers=[(&#x27;num&#x27;, StandardScaler(),\n",
              "                                                  [&#x27;Pickup - Day of Month&#x27;,\n",
              "                                                   &#x27;Pickup - Weekday (Mo = 1)&#x27;,\n",
              "                                                   &#x27;Distance (KM)&#x27;,\n",
              "                                                   &#x27;Temperature&#x27;,\n",
              "                                                   &#x27;Pickup - Time(Seconds &#x27;\n",
              "                                                   &#x27;since midnight)&#x27;]),\n",
              "                                                 (&#x27;cat&#x27;,\n",
              "                                                  OneHotEncoder(handle_unknown=&#x27;ignore&#x27;),\n",
              "                                                  [&#x27;Vehicle Type&#x27;,\n",
              "                                                   &#x27;Platform Type&#x27;,\n",
              "                                                   &#x27;Personal or Business&#x27;])])),\n",
              "                (&#x27;model&#x27;, RandomForestRegressor(random_state=42))])</pre><b>In a Jupyter environment, please rerun this cell to show the HTML representation or trust the notebook. <br />On GitHub, the HTML representation is unable to render, please try loading this page with nbviewer.org.</b></div><div class=\"sk-container\" hidden><div class=\"sk-item sk-dashed-wrapped\"><div class=\"sk-label-container\"><div class=\"sk-label sk-toggleable\"><input class=\"sk-toggleable__control sk-hidden--visually\" id=\"sk-estimator-id-1\" type=\"checkbox\" ><label for=\"sk-estimator-id-1\" class=\"sk-toggleable__label sk-toggleable__label-arrow\">Pipeline</label><div class=\"sk-toggleable__content\"><pre>Pipeline(steps=[(&#x27;preprocessor&#x27;,\n",
              "                 ColumnTransformer(transformers=[(&#x27;num&#x27;, StandardScaler(),\n",
              "                                                  [&#x27;Pickup - Day of Month&#x27;,\n",
              "                                                   &#x27;Pickup - Weekday (Mo = 1)&#x27;,\n",
              "                                                   &#x27;Distance (KM)&#x27;,\n",
              "                                                   &#x27;Temperature&#x27;,\n",
              "                                                   &#x27;Pickup - Time(Seconds &#x27;\n",
              "                                                   &#x27;since midnight)&#x27;]),\n",
              "                                                 (&#x27;cat&#x27;,\n",
              "                                                  OneHotEncoder(handle_unknown=&#x27;ignore&#x27;),\n",
              "                                                  [&#x27;Vehicle Type&#x27;,\n",
              "                                                   &#x27;Platform Type&#x27;,\n",
              "                                                   &#x27;Personal or Business&#x27;])])),\n",
              "                (&#x27;model&#x27;, RandomForestRegressor(random_state=42))])</pre></div></div></div><div class=\"sk-serial\"><div class=\"sk-item sk-dashed-wrapped\"><div class=\"sk-label-container\"><div class=\"sk-label sk-toggleable\"><input class=\"sk-toggleable__control sk-hidden--visually\" id=\"sk-estimator-id-2\" type=\"checkbox\" ><label for=\"sk-estimator-id-2\" class=\"sk-toggleable__label sk-toggleable__label-arrow\">preprocessor: ColumnTransformer</label><div class=\"sk-toggleable__content\"><pre>ColumnTransformer(transformers=[(&#x27;num&#x27;, StandardScaler(),\n",
              "                                 [&#x27;Pickup - Day of Month&#x27;,\n",
              "                                  &#x27;Pickup - Weekday (Mo = 1)&#x27;, &#x27;Distance (KM)&#x27;,\n",
              "                                  &#x27;Temperature&#x27;,\n",
              "                                  &#x27;Pickup - Time(Seconds since midnight)&#x27;]),\n",
              "                                (&#x27;cat&#x27;, OneHotEncoder(handle_unknown=&#x27;ignore&#x27;),\n",
              "                                 [&#x27;Vehicle Type&#x27;, &#x27;Platform Type&#x27;,\n",
              "                                  &#x27;Personal or Business&#x27;])])</pre></div></div></div><div class=\"sk-parallel\"><div class=\"sk-parallel-item\"><div class=\"sk-item\"><div class=\"sk-label-container\"><div class=\"sk-label sk-toggleable\"><input class=\"sk-toggleable__control sk-hidden--visually\" id=\"sk-estimator-id-3\" type=\"checkbox\" ><label for=\"sk-estimator-id-3\" class=\"sk-toggleable__label sk-toggleable__label-arrow\">num</label><div class=\"sk-toggleable__content\"><pre>[&#x27;Pickup - Day of Month&#x27;, &#x27;Pickup - Weekday (Mo = 1)&#x27;, &#x27;Distance (KM)&#x27;, &#x27;Temperature&#x27;, &#x27;Pickup - Time(Seconds since midnight)&#x27;]</pre></div></div></div><div class=\"sk-serial\"><div class=\"sk-item\"><div class=\"sk-estimator sk-toggleable\"><input class=\"sk-toggleable__control sk-hidden--visually\" id=\"sk-estimator-id-4\" type=\"checkbox\" ><label for=\"sk-estimator-id-4\" class=\"sk-toggleable__label sk-toggleable__label-arrow\">StandardScaler</label><div class=\"sk-toggleable__content\"><pre>StandardScaler()</pre></div></div></div></div></div></div><div class=\"sk-parallel-item\"><div class=\"sk-item\"><div class=\"sk-label-container\"><div class=\"sk-label sk-toggleable\"><input class=\"sk-toggleable__control sk-hidden--visually\" id=\"sk-estimator-id-5\" type=\"checkbox\" ><label for=\"sk-estimator-id-5\" class=\"sk-toggleable__label sk-toggleable__label-arrow\">cat</label><div class=\"sk-toggleable__content\"><pre>[&#x27;Vehicle Type&#x27;, &#x27;Platform Type&#x27;, &#x27;Personal or Business&#x27;]</pre></div></div></div><div class=\"sk-serial\"><div class=\"sk-item\"><div class=\"sk-estimator sk-toggleable\"><input class=\"sk-toggleable__control sk-hidden--visually\" id=\"sk-estimator-id-6\" type=\"checkbox\" ><label for=\"sk-estimator-id-6\" class=\"sk-toggleable__label sk-toggleable__label-arrow\">OneHotEncoder</label><div class=\"sk-toggleable__content\"><pre>OneHotEncoder(handle_unknown=&#x27;ignore&#x27;)</pre></div></div></div></div></div></div></div></div><div class=\"sk-item\"><div class=\"sk-estimator sk-toggleable\"><input class=\"sk-toggleable__control sk-hidden--visually\" id=\"sk-estimator-id-7\" type=\"checkbox\" ><label for=\"sk-estimator-id-7\" class=\"sk-toggleable__label sk-toggleable__label-arrow\">RandomForestRegressor</label><div class=\"sk-toggleable__content\"><pre>RandomForestRegressor(random_state=42)</pre></div></div></div></div></div></div></div>"
            ],
            "text/plain": [
              "Pipeline(steps=[('preprocessor',\n",
              "                 ColumnTransformer(transformers=[('num', StandardScaler(),\n",
              "                                                  ['Pickup - Day of Month',\n",
              "                                                   'Pickup - Weekday (Mo = 1)',\n",
              "                                                   'Distance (KM)',\n",
              "                                                   'Temperature',\n",
              "                                                   'Pickup - Time(Seconds '\n",
              "                                                   'since midnight)']),\n",
              "                                                 ('cat',\n",
              "                                                  OneHotEncoder(handle_unknown='ignore'),\n",
              "                                                  ['Vehicle Type',\n",
              "                                                   'Platform Type',\n",
              "                                                   'Personal or Business'])])),\n",
              "                ('model', RandomForestRegressor(random_state=42))])"
            ]
          },
          "execution_count": 9,
          "metadata": {},
          "output_type": "execute_result"
        }
      ],
      "source": [
        "# Preprocessing pipelines for numerical and categorical data\n",
        "\n",
        "numerical_features = ['Pickup - Day of Month',\n",
        "                      'Pickup - Weekday (Mo = 1)','Distance (KM)',\n",
        "                      'Temperature','Pickup - Time(Seconds since midnight)']\n",
        "\n",
        "categorical_features = [\"Vehicle Type\", \"Platform Type\", \"Personal or Business\"]\n",
        "\n",
        "# Verify that all columns exist in X_train\n",
        "missing_numerical = [col for col in numerical_features if col not in X_train.columns]\n",
        "missing_categorical = [col for col in categorical_features if col not in X_train.columns]\n",
        "\n",
        "if missing_numerical or missing_categorical:\n",
        "    print(\"Missing numerical columns:\", missing_numerical)\n",
        "    print(\"Missing categorical columns:\", missing_categorical)\n",
        "    raise ValueError(\"Some columns are missing from the dataframe\")\n",
        "\n",
        "numerical_transformer = StandardScaler()\n",
        "categorical_transformer = OneHotEncoder(handle_unknown='ignore')\n",
        "\n",
        "preprocessor = ColumnTransformer(\n",
        "    transformers=[('num', numerical_transformer, numerical_features),('cat', categorical_transformer, categorical_features)])\n",
        "\n",
        "# Define the model\n",
        "model = RandomForestRegressor(n_estimators=100, random_state=42)\n",
        "\n",
        "# Create the pipeline\n",
        "pipeline = Pipeline(steps=[('preprocessor', preprocessor),('model', model)])\n",
        "\n",
        "# Train the model\n",
        "pipeline.fit(X_train, y_train)"
      ]
    },
    {
      "cell_type": "code",
      "execution_count": 10,
      "metadata": {
        "colab": {
          "base_uri": "https://localhost:8080/"
        },
        "id": "Wz5xnl74XfyV",
        "outputId": "57846a48-51c8-4a93-a5e5-da443a899a8a"
      },
      "outputs": [
        {
          "name": "stdout",
          "output_type": "stream",
          "text": [
            "Root Mean Squared Error: 850.5423813058522\n",
            "R^2 Score: 0.9912368676235768\n"
          ]
        }
      ],
      "source": [
        "# Make predictions\n",
        "y_pred = pipeline.predict(X_test)\n",
        "\n",
        "# Evaluate the model\n",
        "mse = mean_squared_error(y_test, y_pred)\n",
        "rmse = np.sqrt(mse)\n",
        "r2 = r2_score(y_test, y_pred)\n",
        "\n",
        "print(f\"Root Mean Squared Error: {rmse}\")\n",
        "print(f\"R^2 Score: {r2}\")"
      ]
    },
    {
      "cell_type": "code",
      "execution_count": null,
      "metadata": {},
      "outputs": [],
      "source": [
        "# Function to convert seconds since midnight to HH:MM:SS format\n",
        "def seconds_to_time(seconds):\n",
        "    hours = seconds // 3600\n",
        "    minutes = (seconds % 3600) // 60\n",
        "    seconds = seconds % 60\n",
        "    return f\"{int(hours):02}:{int(minutes):02}:{int(seconds):02}\"\n",
        "\n",
        "# Get user input for required features\n",
        "user_input = {\n",
        "    \"Vehicle Type\": input(\"Enter Vehicle Type (e.g., Car, Bike): \"),\n",
        "    \"Platform Type\": int(input(\"Enter Platform Type (e.g., 1, 2): \")),\n",
        "    \"Personal or Business\": input(\"Enter Personal or Business: \"),\n",
        "    \"Pickup - Day of Month\": int(input(\"Enter Pickup - Day of Month: \")),\n",
        "    \"Pickup - Weekday (Mo = 1)\": int(input(\"Enter Pickup - Weekday (Mo = 1): \")),\n",
        "    \"Pickup - Time\": input(\"Enter Pickup - Time (HH:MM:SS AM/PM): \"),\n",
        "    \"Distance (KM)\": float(input(\"Enter Distance (KM): \")),\n",
        "    \"Temperature\": float(input(\"Enter Temperature: \"))\n",
        "}\n",
        "\n",
        "# Convert time inputs to seconds since midnight\n",
        "for col in [\"Pickup - Time\"]:\n",
        "    user_input[f\"{col}(Seconds since midnight)\"] = time_to_seconds(pd.to_datetime(user_input[col], format='%I:%M:%S %p').time())\n",
        "\n",
        "# Create a DataFrame for the user input\n",
        "user_input_df = pd.DataFrame([user_input])\n",
        "\n",
        "# Drop original time columns\n",
        "user_input_df.drop(columns=[\"Pickup - Time\"], inplace=True)\n",
        "\n",
        "# Define features (exclude columns not needed for prediction)\n",
        "#X_new = user_input_df.drop(columns=[\"Order No\", \"User Id\", \"Rider Id\", \"Arrival at Destination - Time(Seconds since midnight)\"])\n",
        "\n",
        "# Make predictions\n",
        "new_prediction = pipeline.predict(user_input_df)\n",
        "\n",
        "# Convert predicted time in seconds since midnight to HH:MM:SS format\n",
        "predicted_time = seconds_to_time(new_prediction[0])\n",
        "\n",
        "# Display the predicted arrival time\n",
        "print(\"Predicted Arrival at Destination Time:\", predicted_time)"
      ]
    },
    {
      "cell_type": "code",
      "execution_count": 13,
      "metadata": {},
      "outputs": [],
      "source": [
        "import pickle\n",
        "\n",
        "with open('pipepline.pkl', 'wb') as file:\n",
        "    pickle.dump(model, file)"
      ]
    }
  ],
  "metadata": {
    "colab": {
      "provenance": []
    },
    "kernelspec": {
      "display_name": "Python 3",
      "name": "python3"
    },
    "language_info": {
      "codemirror_mode": {
        "name": "ipython",
        "version": 3
      },
      "file_extension": ".py",
      "mimetype": "text/x-python",
      "name": "python",
      "nbconvert_exporter": "python",
      "pygments_lexer": "ipython3",
      "version": "3.11.7"
    }
  },
  "nbformat": 4,
  "nbformat_minor": 0
}
